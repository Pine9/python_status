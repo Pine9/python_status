{
 "cells": [
  {
   "cell_type": "code",
   "execution_count": 1,
   "id": "outside-andrews",
   "metadata": {},
   "outputs": [],
   "source": [
    "\"\"\"\n",
    "From https://codingbat.com/prob/p193507\n",
    "Given a string and a non-negative int n, return a larger string that is n copies of the original string.\n",
    "\"\"\"\n",
    "def string_times(str, n):\n",
    "    result=\"\"\n",
    "    for count in range(n):\n",
    "        result += str\n",
    "    return result"
   ]
  },
  {
   "cell_type": "code",
   "execution_count": 4,
   "id": "advisory-buying",
   "metadata": {},
   "outputs": [],
   "source": [
    "\"\"\"\n",
    "From https://codingbat.com/prob/p165097\n",
    "Given a string and a non-negative int n, we'll say that the front of the string is the first 3 chars, \n",
    "or whatever is there if the string is less than length 3. Return n copies of the front\n",
    "\"\"\"\n",
    "def front_times(str, n):\n",
    "    if len(str) < 3:\n",
    "        front=str\n",
    "    else:\n",
    "        front=str[0 : 3]\n",
    "    \n",
    "    result=\"\"\n",
    "    for count in range(n):\n",
    "        result += front\n",
    "  \n",
    "    return result"
   ]
  },
  {
   "cell_type": "code",
   "execution_count": 10,
   "id": "decreased-alcohol",
   "metadata": {},
   "outputs": [],
   "source": [
    "\"\"\"\n",
    "From https://adriann.github.io/programming_problems.html\n",
    "Write a function that rotates a list by k elements. For example [1,2,3,4,5,6] rotated by two becomes [3,4,5,6,1,2]. \n",
    "Try solving this without creating a copy of the list. How many swap or move operations do you need?\n",
    "\"\"\"\n",
    "\n",
    "# helper\n",
    "def swap(i1, i2, lst):\n",
    "    temp = lst[i1]\n",
    "    lst[i1] = lst[i2]\n",
    "    lst[i2] = temp\n",
    "    return\n",
    "\n",
    "def rotate(nums, k):\n",
    "    for i in range(len(nums)):\n",
    "        if (i + k < len(nums)):\n",
    "            swap(i, i + k, nums)\n",
    "    return nums\n",
    "\n",
    "assert rotate([1,2,3,4,5,6], 2) == [3,4,5,6,1,2]"
   ]
  },
  {
   "cell_type": "code",
   "execution_count": 1,
   "id": "forward-technical",
   "metadata": {},
   "outputs": [],
   "source": [
    "\"\"\"\n",
    "From https://www.learnpython.org/en/Decorators\n",
    "Make a decorator factory which returns a decorator that decorates functions with one argument. \n",
    "The factory should take one argument, a type, and then returns a decorator that makes function should check if the input is the correct type.\n",
    "If it is wrong, it should print(\"Bad Type\").\n",
    "\"\"\"\n",
    "def type_check(correct_type):\n",
    "    def type_check_decorator(func):\n",
    "        def checker(arg):\n",
    "            if not isinstance(arg, correct_type):\n",
    "                print(\"Bad Type\")\n",
    "            else:\n",
    "                return func(arg)\n",
    "        return checker\n",
    "    return type_check_decorator"
   ]
  },
  {
   "cell_type": "code",
   "execution_count": 14,
   "id": "intended-lebanon",
   "metadata": {},
   "outputs": [
    {
     "name": "stdout",
     "output_type": "stream",
     "text": [
      "1\n"
     ]
    },
    {
     "data": {
      "text/plain": [
       "4"
      ]
     },
     "execution_count": 14,
     "metadata": {},
     "output_type": "execute_result"
    }
   ],
   "source": [
    "\"\"\"\n",
    "Write a decorator that counts the number of times a function is called.\n",
    "\"\"\"\n",
    "def count_decorator(func):\n",
    "    def counter(*args, **kwargs):\n",
    "        ret = func(*args, **kwargs)\n",
    "        counter.num += 1\n",
    "        #print(counter.num)\n",
    "        return ret\n",
    "    counter.num = 0\n",
    "    return counter\n",
    "\n",
    "@count_decorator\n",
    "def test_func(num):\n",
    "    if num >= 2:\n",
    "        return num\n",
    "    num += 1\n",
    "    test_func(num)\n",
    "    \n",
    "test_func(4)\n",
    "    "
   ]
  },
  {
   "cell_type": "code",
   "execution_count": null,
   "id": "supposed-proposition",
   "metadata": {},
   "outputs": [],
   "source": []
  }
 ],
 "metadata": {
  "kernelspec": {
   "display_name": "Python 3",
   "language": "python",
   "name": "python3"
  },
  "language_info": {
   "codemirror_mode": {
    "name": "ipython",
    "version": 3
   },
   "file_extension": ".py",
   "mimetype": "text/x-python",
   "name": "python",
   "nbconvert_exporter": "python",
   "pygments_lexer": "ipython3",
   "version": "3.9.1"
  }
 },
 "nbformat": 4,
 "nbformat_minor": 5
}
