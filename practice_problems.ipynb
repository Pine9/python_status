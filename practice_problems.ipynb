{
 "cells": [
  {
   "cell_type": "code",
   "execution_count": 1,
   "id": "brazilian-flashing",
   "metadata": {},
   "outputs": [],
   "source": [
    "\"\"\"\n",
    "From https://codingbat.com/prob/p193507\n",
    "Given a string and a non-negative int n, return a larger string that is n copies of the original string.\n",
    "\"\"\"\n",
    "def string_times(str, n):\n",
    "    result=\"\"\n",
    "    for count in range(n):\n",
    "        result += str\n",
    "    return result"
   ]
  },
  {
   "cell_type": "code",
   "execution_count": 4,
   "id": "romance-crowd",
   "metadata": {},
   "outputs": [],
   "source": [
    "\"\"\"\n",
    "From https://codingbat.com/prob/p165097\n",
    "Given a string and a non-negative int n, we'll say that the front of the string is the first 3 chars, or whatever is there if the string is less than length 3. Return n copies of the front\n",
    "\"\"\"\n",
    "def front_times(str, n):\n",
    "    if len(str) < 3:\n",
    "        front=str\n",
    "    else:\n",
    "        front=str[0 : 3]\n",
    "    \n",
    "    result=\"\"\n",
    "    for count in range(n):\n",
    "        result += front\n",
    "  \n",
    "    return result"
   ]
  },
  {
   "cell_type": "code",
   "execution_count": null,
   "id": "binding-china",
   "metadata": {},
   "outputs": [],
   "source": []
  }
 ],
 "metadata": {
  "kernelspec": {
   "display_name": "Python 3",
   "language": "python",
   "name": "python3"
  },
  "language_info": {
   "codemirror_mode": {
    "name": "ipython",
    "version": 3
   },
   "file_extension": ".py",
   "mimetype": "text/x-python",
   "name": "python",
   "nbconvert_exporter": "python",
   "pygments_lexer": "ipython3",
   "version": "3.9.1"
  }
 },
 "nbformat": 4,
 "nbformat_minor": 5
}
