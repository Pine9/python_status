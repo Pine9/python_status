{
 "cells": [
  {
   "cell_type": "code",
   "execution_count": 1,
   "id": "homeless-saudi",
   "metadata": {},
   "outputs": [],
   "source": [
    "\"\"\"\n",
    "From https://codingbat.com/prob/p193507\n",
    "Given a string and a non-negative int n, return a larger string that is n copies of the original string.\n",
    "\"\"\"\n",
    "def string_times(str, n):\n",
    "    result=\"\"\n",
    "    for count in range(n):\n",
    "        result += str\n",
    "    return result"
   ]
  },
  {
   "cell_type": "code",
   "execution_count": 4,
   "id": "suffering-edgar",
   "metadata": {},
   "outputs": [],
   "source": [
    "\"\"\"\n",
    "From https://codingbat.com/prob/p165097\n",
    "Given a string and a non-negative int n, we'll say that the front of the string is the first 3 chars, \n",
    "or whatever is there if the string is less than length 3. Return n copies of the front\n",
    "\"\"\"\n",
    "def front_times(str, n):\n",
    "    if len(str) < 3:\n",
    "        front=str\n",
    "    else:\n",
    "        front=str[0 : 3]\n",
    "    \n",
    "    result=\"\"\n",
    "    for count in range(n):\n",
    "        result += front\n",
    "  \n",
    "    return result"
   ]
  },
  {
   "cell_type": "code",
   "execution_count": 9,
   "id": "assured-anime",
   "metadata": {},
   "outputs": [],
   "source": [
    "\"\"\"\n",
    "From https://adriann.github.io/programming_problems.html\n",
    "Write a function that rotates a list by k elements. For example [1,2,3,4,5,6] rotated by two becomes [3,4,5,6,1,2]. \n",
    "Try solving this without creating a copy of the list. How many swap or move operations do you need?\n",
    "\"\"\"\n",
    "\n",
    "# helper\n",
    "def swap(i1, i2, lst):\n",
    "    temp = lst[i1]\n",
    "    lst[i1] = lst[i2]\n",
    "    lst[i2] = temp\n",
    "    return\n",
    "\n",
    "def rotate(nums, k):\n",
    "    for i in range(len(nums)):\n",
    "        if (i + k < len(nums)):\n",
    "            swap(i, i + k, nums)\n",
    "    return nums\n",
    "\n",
    "assert rotate([1,2,3,4,5,6], 2) == [3,4,5,6,1,2]"
   ]
  },
  {
   "cell_type": "code",
   "execution_count": null,
   "id": "speaking-drain",
   "metadata": {},
   "outputs": [],
   "source": []
  }
 ],
 "metadata": {
  "kernelspec": {
   "display_name": "Python 3",
   "language": "python",
   "name": "python3"
  },
  "language_info": {
   "codemirror_mode": {
    "name": "ipython",
    "version": 3
   },
   "file_extension": ".py",
   "mimetype": "text/x-python",
   "name": "python",
   "nbconvert_exporter": "python",
   "pygments_lexer": "ipython3",
   "version": "3.9.1"
  }
 },
 "nbformat": 4,
 "nbformat_minor": 5
}
